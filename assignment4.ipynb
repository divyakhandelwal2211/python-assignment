{
 "cells": [
  {
   "cell_type": "markdown",
   "metadata": {},
   "source": [
    " Create a numpy array with filling random values, and shape of array\n",
    " should be (12,5), and pass this array from a user-defined function, and\n",
    " function should be able to return average, minimum, maximum, and\n",
    " For e.g. consider this is last row [41,52,63,96,85],\n",
    " Output:\n",
    " Average -> 67.4 Minimum -> 41\n",
    " Maximum -> 96\n",
    " No. of evens -> 2"
   ]
  },
  {
   "cell_type": "code",
   "execution_count": 1,
   "metadata": {},
   "outputs": [],
   "source": [
    "import numpy as np"
   ]
  },
  {
   "cell_type": "code",
   "execution_count": 16,
   "metadata": {},
   "outputs": [
    {
     "name": "stdout",
     "output_type": "stream",
     "text": [
      "Array:\n",
      "[[ 0  1  2  3  4]\n",
      " [ 5  6  7  8  9]\n",
      " [10 11 12 13 14]\n",
      " [15 16 17 18 19]\n",
      " [20 21 22 23 24]\n",
      " [25 26 27 28 29]\n",
      " [30 31 32 33 34]\n",
      " [35 36 37 38 39]\n",
      " [40 41 42 43 44]\n",
      " [45 46 47 48 49]\n",
      " [50 51 52 53 54]\n",
      " [55 56 57 58 59]]\n",
      "\n",
      "Results:\n",
      "Average -> 57.0\n",
      "Minimum -> 55\n",
      "Maximum -> 59\n",
      "No. of evens -> 2\n"
     ]
    }
   ],
   "source": [
    "a = np.arange(60).reshape(12,5)\n",
    "def process_last_row(arr):\n",
    "    last_row = arr[-1]\n",
    "    # average\n",
    "    average= sum(last_row)/len(last_row)\n",
    "\n",
    "    # minimum\n",
    "    minimum=last_row[0]\n",
    "    for i in last_row:\n",
    "        if minimum>i:\n",
    "             minimum = i\n",
    "    minimum = minimum\n",
    "\n",
    "    #maximum\n",
    "    max_element = last_row[0]\n",
    "    \n",
    "    for element in last_row:\n",
    "        if element > max_element:\n",
    "            max_element = element\n",
    "            \n",
    "    maximum = max_element\n",
    "\n",
    "    # number of even\n",
    "    count = 0\n",
    "    for i in last_row:\n",
    "        if i % 2 == 0:\n",
    "            count = count + 1\n",
    "    num_evens = count\n",
    "\n",
    "    #returning all the values\n",
    "    return average, minimum, maximum, num_evens\n",
    "\n",
    "    # call the function\n",
    "average, minimum, maximum, num_evens = process_last_row(a)\n",
    "\n",
    "# Print the array and the results\n",
    "print(\"Array:\")\n",
    "print(a)\n",
    "print(\"\\nResults:\")\n",
    "print(f\"Average -> {average}\")\n",
    "print(f\"Minimum -> {minimum}\")\n",
    "print(f\"Maximum -> {maximum}\")\n",
    "print(f\"No. of evens -> {num_evens}\")\n",
    "\n",
    "\n",
    "\n",
    "\n",
    "\n",
    "\n",
    "\n"
   ]
  },
  {
   "cell_type": "markdown",
   "metadata": {},
   "source": [
    "Let’s consider we have an array, e.g.\n",
    "[[1 2 3 ],\n",
    "[4 5 6 ],\n",
    "[7 8 9 ]]\n",
    "And apply slicing techniques to get reversed order elements of all the rows,\n",
    "like this -> [[3 2 1],\n",
    " [6 5 4],\n",
    " [9 8 7]]"
   ]
  },
  {
   "cell_type": "code",
   "execution_count": 20,
   "metadata": {},
   "outputs": [
    {
     "name": "stdout",
     "output_type": "stream",
     "text": [
      "[[9 8 7]\n",
      " [6 5 4]\n",
      " [3 2 1]]\n"
     ]
    }
   ],
   "source": [
    "a2 = np.array([[1,2,3],[4,5,6],[7,8,9]])\n",
    "reverse = a2[::-1,::-1]\n",
    "print(reverse)"
   ]
  }
 ],
 "metadata": {
  "kernelspec": {
   "display_name": "Python 3",
   "language": "python",
   "name": "python3"
  },
  "language_info": {
   "codemirror_mode": {
    "name": "ipython",
    "version": 3
   },
   "file_extension": ".py",
   "mimetype": "text/x-python",
   "name": "python",
   "nbconvert_exporter": "python",
   "pygments_lexer": "ipython3",
   "version": "3.12.3"
  }
 },
 "nbformat": 4,
 "nbformat_minor": 2
}
