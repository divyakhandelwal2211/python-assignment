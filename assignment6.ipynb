{
 "cells": [
  {
   "cell_type": "markdown",
   "metadata": {},
   "source": [
    "Given an array a = np.array([10, 20, 30, 40, 50]) and\n",
    "an index array i = np.array([0, 1, 3]), use fancy indexing\n",
    "to extract elements and assign new values to them. \n"
   ]
  },
  {
   "cell_type": "code",
   "execution_count": 2,
   "metadata": {},
   "outputs": [],
   "source": [
    "import numpy as np"
   ]
  },
  {
   "cell_type": "code",
   "execution_count": 29,
   "metadata": {},
   "outputs": [
    {
     "name": "stdout",
     "output_type": "stream",
     "text": [
      "[10 20 40]\n",
      "[12 13 30 14 50]\n"
     ]
    }
   ],
   "source": [
    "a = np.array([10,20,30,40,50])\n",
    "i = np.array([0,1,3])\n",
    "extracted_element = a[i]\n",
    "print(extracted_element)\n",
    "\n",
    "new = np.array([12,13,14])\n",
    "a[i]= new\n",
    "print(a)"
   ]
  },
  {
   "cell_type": "markdown",
   "metadata": {},
   "source": [
    "Create a 4x4 matrix and compute the sum of all elements, the sum\n",
    "of each column, and the sum of each row.\n"
   ]
  },
  {
   "cell_type": "code",
   "execution_count": 27,
   "metadata": {},
   "outputs": [
    {
     "name": "stdout",
     "output_type": "stream",
     "text": [
      "[[ 1  2  3  4]\n",
      " [ 5  6  7  8]\n",
      " [ 9 10 11 12]\n",
      " [13 14 15 16]]\n",
      "136\n",
      "[10 26 42 58]\n",
      "[28 32 36 40]\n"
     ]
    }
   ],
   "source": [
    "arr1 = np.arange(1,17).reshape(4,4)\n",
    "print(arr1)\n",
    "total = np.sum(arr1)\n",
    "print(total)\n",
    "row_total = np.sum(arr1,axis = 1)\n",
    "print(row_total)\n",
    "column_total = np.sum(arr1,axis = 0)\n",
    "print(column_total)\n",
    "\n"
   ]
  },
  {
   "cell_type": "code",
   "execution_count": 21,
   "metadata": {},
   "outputs": [
    {
     "data": {
      "text/plain": [
       "array([[[33, 34],\n",
       "        [38, 39]],\n",
       "\n",
       "       [[53, 54],\n",
       "        [58, 59]]])"
      ]
     },
     "execution_count": 21,
     "metadata": {},
     "output_type": "execute_result"
    }
   ],
   "source": [
    "arr = np.arange(0,60).reshape(3,4,5)\n",
    "arr\n",
    "sub_array = arr[1:3, -2:, -2:]\n",
    "sub_array\n"
   ]
  },
  {
   "cell_type": "code",
   "execution_count": null,
   "metadata": {},
   "outputs": [],
   "source": []
  }
 ],
 "metadata": {
  "kernelspec": {
   "display_name": "Python 3",
   "language": "python",
   "name": "python3"
  },
  "language_info": {
   "codemirror_mode": {
    "name": "ipython",
    "version": 3
   },
   "file_extension": ".py",
   "mimetype": "text/x-python",
   "name": "python",
   "nbconvert_exporter": "python",
   "pygments_lexer": "ipython3",
   "version": "3.12.3"
  }
 },
 "nbformat": 4,
 "nbformat_minor": 2
}
